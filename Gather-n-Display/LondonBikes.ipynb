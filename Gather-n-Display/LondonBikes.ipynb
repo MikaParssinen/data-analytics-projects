{
 "cells": [
  {
   "cell_type": "code",
   "outputs": [],
   "source": [
    "# pandas library\n",
    "import pandas as pd\n",
    "# used to extract the files from kaggle\n",
    "import zipfile\n",
    "# used to download from kaggle\n",
    "import kaggle"
   ],
   "metadata": {
    "collapsed": false,
    "ExecuteTime": {
     "end_time": "2024-03-16T21:08:31.909814Z",
     "start_time": "2024-03-16T21:08:31.905910Z"
    }
   },
   "id": "487c7492e34f38b",
   "execution_count": 62
  },
  {
   "cell_type": "code",
   "outputs": [
    {
     "name": "stdout",
     "output_type": "stream",
     "text": [
      "london-bike-sharing-dataset.zip: Skipping, found more recently modified local copy (use --force to force download)\r\n"
     ]
    }
   ],
   "source": [
    "!kaggle datasets download -d hmavrodiev/london-bike-sharing-dataset "
   ],
   "metadata": {
    "collapsed": false,
    "ExecuteTime": {
     "end_time": "2024-03-16T21:08:33.112305Z",
     "start_time": "2024-03-16T21:08:31.913327Z"
    }
   },
   "id": "d4199e787da42560",
   "execution_count": 63
  },
  {
   "cell_type": "code",
   "outputs": [],
   "source": [
    "zipfile_name = 'london-bike-sharing-dataset.zip'\n",
    "with zipfile.ZipFile(zipfile_name, 'r') as file:\n",
    "    file.extractall()"
   ],
   "metadata": {
    "collapsed": false,
    "ExecuteTime": {
     "end_time": "2024-03-16T21:08:33.123922Z",
     "start_time": "2024-03-16T21:08:33.114379Z"
    }
   },
   "id": "7030f2409b207431",
   "execution_count": 64
  },
  {
   "cell_type": "code",
   "outputs": [],
   "source": [
    "bikes_df = pd.read_csv(\"london_merged.csv\")"
   ],
   "metadata": {
    "collapsed": false,
    "ExecuteTime": {
     "end_time": "2024-03-16T21:08:33.146912Z",
     "start_time": "2024-03-16T21:08:33.124879Z"
    }
   },
   "id": "fbb654b7326b10bb",
   "execution_count": 65
  },
  {
   "cell_type": "code",
   "outputs": [
    {
     "name": "stdout",
     "output_type": "stream",
     "text": [
      "<class 'pandas.core.frame.DataFrame'>\n",
      "RangeIndex: 17414 entries, 0 to 17413\n",
      "Data columns (total 10 columns):\n",
      " #   Column        Non-Null Count  Dtype  \n",
      "---  ------        --------------  -----  \n",
      " 0   timestamp     17414 non-null  object \n",
      " 1   cnt           17414 non-null  int64  \n",
      " 2   t1            17414 non-null  float64\n",
      " 3   t2            17414 non-null  float64\n",
      " 4   hum           17414 non-null  float64\n",
      " 5   wind_speed    17414 non-null  float64\n",
      " 6   weather_code  17414 non-null  float64\n",
      " 7   is_holiday    17414 non-null  float64\n",
      " 8   is_weekend    17414 non-null  float64\n",
      " 9   season        17414 non-null  float64\n",
      "dtypes: float64(8), int64(1), object(1)\n",
      "memory usage: 1.3+ MB\n"
     ]
    }
   ],
   "source": [
    "bikes_df.info()"
   ],
   "metadata": {
    "collapsed": false,
    "ExecuteTime": {
     "end_time": "2024-03-16T21:08:33.160355Z",
     "start_time": "2024-03-16T21:08:33.148926Z"
    }
   },
   "id": "ca9793733df6963f",
   "execution_count": 66
  },
  {
   "cell_type": "code",
   "outputs": [
    {
     "data": {
      "text/plain": "(17414, 10)"
     },
     "execution_count": 67,
     "metadata": {},
     "output_type": "execute_result"
    }
   ],
   "source": [
    "bikes_df.shape"
   ],
   "metadata": {
    "collapsed": false,
    "ExecuteTime": {
     "end_time": "2024-03-16T21:08:33.165423Z",
     "start_time": "2024-03-16T21:08:33.161795Z"
    }
   },
   "id": "66f78a48a4d5c35d",
   "execution_count": 67
  },
  {
   "cell_type": "code",
   "outputs": [
    {
     "data": {
      "text/plain": "                 timestamp   cnt   t1   t2    hum  wind_speed  weather_code  \\\n0      2015-01-04 00:00:00   182  3.0  2.0   93.0         6.0           3.0   \n1      2015-01-04 01:00:00   138  3.0  2.5   93.0         5.0           1.0   \n2      2015-01-04 02:00:00   134  2.5  2.5   96.5         0.0           1.0   \n3      2015-01-04 03:00:00    72  2.0  2.0  100.0         0.0           1.0   \n4      2015-01-04 04:00:00    47  2.0  0.0   93.0         6.5           1.0   \n...                    ...   ...  ...  ...    ...         ...           ...   \n17409  2017-01-03 19:00:00  1042  5.0  1.0   81.0        19.0           3.0   \n17410  2017-01-03 20:00:00   541  5.0  1.0   81.0        21.0           4.0   \n17411  2017-01-03 21:00:00   337  5.5  1.5   78.5        24.0           4.0   \n17412  2017-01-03 22:00:00   224  5.5  1.5   76.0        23.0           4.0   \n17413  2017-01-03 23:00:00   139  5.0  1.0   76.0        22.0           2.0   \n\n       is_holiday  is_weekend  season  \n0             0.0         1.0     3.0  \n1             0.0         1.0     3.0  \n2             0.0         1.0     3.0  \n3             0.0         1.0     3.0  \n4             0.0         1.0     3.0  \n...           ...         ...     ...  \n17409         0.0         0.0     3.0  \n17410         0.0         0.0     3.0  \n17411         0.0         0.0     3.0  \n17412         0.0         0.0     3.0  \n17413         0.0         0.0     3.0  \n\n[17414 rows x 10 columns]",
      "text/html": "<div>\n<style scoped>\n    .dataframe tbody tr th:only-of-type {\n        vertical-align: middle;\n    }\n\n    .dataframe tbody tr th {\n        vertical-align: top;\n    }\n\n    .dataframe thead th {\n        text-align: right;\n    }\n</style>\n<table border=\"1\" class=\"dataframe\">\n  <thead>\n    <tr style=\"text-align: right;\">\n      <th></th>\n      <th>timestamp</th>\n      <th>cnt</th>\n      <th>t1</th>\n      <th>t2</th>\n      <th>hum</th>\n      <th>wind_speed</th>\n      <th>weather_code</th>\n      <th>is_holiday</th>\n      <th>is_weekend</th>\n      <th>season</th>\n    </tr>\n  </thead>\n  <tbody>\n    <tr>\n      <th>0</th>\n      <td>2015-01-04 00:00:00</td>\n      <td>182</td>\n      <td>3.0</td>\n      <td>2.0</td>\n      <td>93.0</td>\n      <td>6.0</td>\n      <td>3.0</td>\n      <td>0.0</td>\n      <td>1.0</td>\n      <td>3.0</td>\n    </tr>\n    <tr>\n      <th>1</th>\n      <td>2015-01-04 01:00:00</td>\n      <td>138</td>\n      <td>3.0</td>\n      <td>2.5</td>\n      <td>93.0</td>\n      <td>5.0</td>\n      <td>1.0</td>\n      <td>0.0</td>\n      <td>1.0</td>\n      <td>3.0</td>\n    </tr>\n    <tr>\n      <th>2</th>\n      <td>2015-01-04 02:00:00</td>\n      <td>134</td>\n      <td>2.5</td>\n      <td>2.5</td>\n      <td>96.5</td>\n      <td>0.0</td>\n      <td>1.0</td>\n      <td>0.0</td>\n      <td>1.0</td>\n      <td>3.0</td>\n    </tr>\n    <tr>\n      <th>3</th>\n      <td>2015-01-04 03:00:00</td>\n      <td>72</td>\n      <td>2.0</td>\n      <td>2.0</td>\n      <td>100.0</td>\n      <td>0.0</td>\n      <td>1.0</td>\n      <td>0.0</td>\n      <td>1.0</td>\n      <td>3.0</td>\n    </tr>\n    <tr>\n      <th>4</th>\n      <td>2015-01-04 04:00:00</td>\n      <td>47</td>\n      <td>2.0</td>\n      <td>0.0</td>\n      <td>93.0</td>\n      <td>6.5</td>\n      <td>1.0</td>\n      <td>0.0</td>\n      <td>1.0</td>\n      <td>3.0</td>\n    </tr>\n    <tr>\n      <th>...</th>\n      <td>...</td>\n      <td>...</td>\n      <td>...</td>\n      <td>...</td>\n      <td>...</td>\n      <td>...</td>\n      <td>...</td>\n      <td>...</td>\n      <td>...</td>\n      <td>...</td>\n    </tr>\n    <tr>\n      <th>17409</th>\n      <td>2017-01-03 19:00:00</td>\n      <td>1042</td>\n      <td>5.0</td>\n      <td>1.0</td>\n      <td>81.0</td>\n      <td>19.0</td>\n      <td>3.0</td>\n      <td>0.0</td>\n      <td>0.0</td>\n      <td>3.0</td>\n    </tr>\n    <tr>\n      <th>17410</th>\n      <td>2017-01-03 20:00:00</td>\n      <td>541</td>\n      <td>5.0</td>\n      <td>1.0</td>\n      <td>81.0</td>\n      <td>21.0</td>\n      <td>4.0</td>\n      <td>0.0</td>\n      <td>0.0</td>\n      <td>3.0</td>\n    </tr>\n    <tr>\n      <th>17411</th>\n      <td>2017-01-03 21:00:00</td>\n      <td>337</td>\n      <td>5.5</td>\n      <td>1.5</td>\n      <td>78.5</td>\n      <td>24.0</td>\n      <td>4.0</td>\n      <td>0.0</td>\n      <td>0.0</td>\n      <td>3.0</td>\n    </tr>\n    <tr>\n      <th>17412</th>\n      <td>2017-01-03 22:00:00</td>\n      <td>224</td>\n      <td>5.5</td>\n      <td>1.5</td>\n      <td>76.0</td>\n      <td>23.0</td>\n      <td>4.0</td>\n      <td>0.0</td>\n      <td>0.0</td>\n      <td>3.0</td>\n    </tr>\n    <tr>\n      <th>17413</th>\n      <td>2017-01-03 23:00:00</td>\n      <td>139</td>\n      <td>5.0</td>\n      <td>1.0</td>\n      <td>76.0</td>\n      <td>22.0</td>\n      <td>2.0</td>\n      <td>0.0</td>\n      <td>0.0</td>\n      <td>3.0</td>\n    </tr>\n  </tbody>\n</table>\n<p>17414 rows × 10 columns</p>\n</div>"
     },
     "execution_count": 68,
     "metadata": {},
     "output_type": "execute_result"
    }
   ],
   "source": [
    "bikes_df"
   ],
   "metadata": {
    "collapsed": false,
    "ExecuteTime": {
     "end_time": "2024-03-16T21:08:33.177141Z",
     "start_time": "2024-03-16T21:08:33.166226Z"
    }
   },
   "id": "3ab123d3b05a1b77",
   "execution_count": 68
  },
  {
   "cell_type": "code",
   "outputs": [
    {
     "data": {
      "text/plain": "0        3.0\n1        1.0\n2        1.0\n3        1.0\n4        1.0\n        ... \n17409    3.0\n17410    4.0\n17411    4.0\n17412    4.0\n17413    2.0\nName: weather_code, Length: 17414, dtype: float64"
     },
     "execution_count": 69,
     "metadata": {},
     "output_type": "execute_result"
    }
   ],
   "source": [
    "bikes_df.weather_code"
   ],
   "metadata": {
    "collapsed": false,
    "ExecuteTime": {
     "end_time": "2024-03-16T21:08:33.182888Z",
     "start_time": "2024-03-16T21:08:33.178479Z"
    }
   },
   "id": "4a339a276063c272",
   "execution_count": 69
  },
  {
   "cell_type": "code",
   "outputs": [
    {
     "data": {
      "text/plain": "timestamp            cnt   t1    t2    hum   wind_speed  weather_code  is_holiday  is_weekend  season\n2015-01-04 00:00:00  182   3.0   2.0   93.0  6.0         3.0           0.0         1.0         3.0       1\n2016-05-04 12:00:00  1482  17.0  17.0  39.0  17.5        1.0           0.0         0.0         0.0       1\n2016-05-04 18:00:00  4133  16.5  16.5  26.0  17.5        1.0           0.0         0.0         0.0       1\n2016-05-04 17:00:00  4312  17.0  17.0  38.0  17.0        1.0           0.0         0.0         0.0       1\n2016-05-04 16:00:00  2292  17.5  17.5  39.5  13.0        1.0           0.0         0.0         0.0       1\n                                                                                                        ..\n2015-09-03 17:00:00  3430  15.5  15.5  57.0  16.0        2.0           0.0         0.0         2.0       1\n2015-09-03 18:00:00  3075  15.0  15.0  59.0  10.0        2.0           0.0         0.0         2.0       1\n2015-09-03 19:00:00  1855  14.0  14.0  65.5  18.0        7.0           0.0         0.0         2.0       1\n2015-09-03 20:00:00  1086  13.5  13.5  69.5  9.0         7.0           0.0         0.0         2.0       1\n2017-01-03 23:00:00  139   5.0   1.0   76.0  22.0        2.0           0.0         0.0         3.0       1\nName: count, Length: 17414, dtype: int64"
     },
     "execution_count": 70,
     "metadata": {},
     "output_type": "execute_result"
    }
   ],
   "source": [
    "bikes_df.value_counts()"
   ],
   "metadata": {
    "collapsed": false,
    "ExecuteTime": {
     "end_time": "2024-03-16T21:08:33.208466Z",
     "start_time": "2024-03-16T21:08:33.183659Z"
    }
   },
   "id": "1ccfde363474c671",
   "execution_count": 70
  },
  {
   "cell_type": "code",
   "outputs": [
    {
     "data": {
      "text/plain": "season\n0.0    4394\n1.0    4387\n3.0    4330\n2.0    4303\nName: count, dtype: int64"
     },
     "execution_count": 71,
     "metadata": {},
     "output_type": "execute_result"
    }
   ],
   "source": [
    "# See the uniqueness in the season column\n",
    "bikes_df.season.value_counts()"
   ],
   "metadata": {
    "collapsed": false,
    "ExecuteTime": {
     "end_time": "2024-03-16T21:08:33.214918Z",
     "start_time": "2024-03-16T21:08:33.209916Z"
    }
   },
   "id": "e90cac3362c13939",
   "execution_count": 71
  },
  {
   "cell_type": "code",
   "outputs": [],
   "source": [
    "# My own column name that i want to use\n",
    "new_cols_dict ={\n",
    "    'timestamp':'time',\n",
    "    'cnt':'count', \n",
    "    't1':'temp_real_C',\n",
    "    't2':'temp_feels_like_C',\n",
    "    'hum':'humidity_percent',\n",
    "    'wind_speed':'wind_speed_kph',\n",
    "    'weather_code':'weather',\n",
    "    'is_holiday':'is_holiday',\n",
    "    'is_weekend':'is_weekend',\n",
    "    'season':'season'\n",
    "}\n",
    "\n",
    "# Renaming the columns to the specified column names\n",
    "bikes_df.rename(new_cols_dict, axis=1, inplace=True)"
   ],
   "metadata": {
    "collapsed": false,
    "ExecuteTime": {
     "end_time": "2024-03-16T21:08:33.221181Z",
     "start_time": "2024-03-16T21:08:33.217586Z"
    }
   },
   "id": "b1b28206eac81bbb",
   "execution_count": 72
  },
  {
   "cell_type": "code",
   "outputs": [],
   "source": [
    "# changing the humidity values to percentage (i.e. a value between 0 and 1)\n",
    "bikes_df.humidity_percent = bikes_df.humidity_percent / 100"
   ],
   "metadata": {
    "collapsed": false,
    "ExecuteTime": {
     "end_time": "2024-03-16T21:08:33.226850Z",
     "start_time": "2024-03-16T21:08:33.222053Z"
    }
   },
   "id": "bf8549ddc95d1dd6",
   "execution_count": 73
  }
 ],
 "metadata": {
  "kernelspec": {
   "display_name": "Python 3",
   "language": "python",
   "name": "python3"
  },
  "language_info": {
   "codemirror_mode": {
    "name": "ipython",
    "version": 2
   },
   "file_extension": ".py",
   "mimetype": "text/x-python",
   "name": "python",
   "nbconvert_exporter": "python",
   "pygments_lexer": "ipython2",
   "version": "2.7.6"
  }
 },
 "nbformat": 4,
 "nbformat_minor": 5
}
