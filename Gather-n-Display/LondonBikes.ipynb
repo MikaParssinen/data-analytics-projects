{
 "cells": [
  {
   "cell_type": "code",
   "outputs": [],
   "source": [
    "# pandas library\n",
    "import pandas as pd\n",
    "# used to extract the files from kaggle\n",
    "import zipfile\n",
    "# used to download from kaggle\n",
    "import kaggle"
   ],
   "metadata": {
    "collapsed": false
   },
   "id": "487c7492e34f38b",
   "execution_count": null
  },
  {
   "cell_type": "code",
   "outputs": [],
   "source": [
    "!kaggle datasets download -d hmavrodiev/london-bike-sharing-dataset "
   ],
   "metadata": {
    "collapsed": false
   },
   "id": "d4199e787da42560",
   "execution_count": null
  },
  {
   "cell_type": "code",
   "outputs": [],
   "source": [
    "zipfile_name = 'london-bike-sharing-dataset.zip'\n",
    "with zipfile.ZipFile(zipfile_name, 'r') as file:\n",
    "    file.extractall()"
   ],
   "metadata": {
    "collapsed": false
   },
   "id": "7030f2409b207431",
   "execution_count": null
  },
  {
   "cell_type": "code",
   "outputs": [],
   "source": [
    "bikes_df = pd.read_csv(\"london_merged.csv\")"
   ],
   "metadata": {
    "collapsed": false
   },
   "id": "fbb654b7326b10bb",
   "execution_count": null
  },
  {
   "cell_type": "code",
   "outputs": [],
   "source": [
    "bikes_df.info()"
   ],
   "metadata": {
    "collapsed": false
   },
   "id": "ca9793733df6963f",
   "execution_count": null
  },
  {
   "cell_type": "code",
   "outputs": [],
   "source": [
    "bikes_df.shape"
   ],
   "metadata": {
    "collapsed": false
   },
   "id": "66f78a48a4d5c35d",
   "execution_count": null
  },
  {
   "cell_type": "code",
   "outputs": [],
   "source": [
    "bikes_df"
   ],
   "metadata": {
    "collapsed": false
   },
   "id": "3ab123d3b05a1b77",
   "execution_count": null
  },
  {
   "cell_type": "code",
   "outputs": [],
   "source": [
    "bikes_df.weather_code"
   ],
   "metadata": {
    "collapsed": false
   },
   "id": "4a339a276063c272",
   "execution_count": null
  },
  {
   "cell_type": "code",
   "outputs": [],
   "source": [
    "bikes_df.value_counts()"
   ],
   "metadata": {
    "collapsed": false
   },
   "id": "1ccfde363474c671",
   "execution_count": null
  },
  {
   "cell_type": "code",
   "outputs": [],
   "source": [
    "# See the uniqueness in the season column\n",
    "bikes_df.season.value_counts()"
   ],
   "metadata": {
    "collapsed": false
   },
   "id": "e90cac3362c13939",
   "execution_count": null
  },
  {
   "cell_type": "code",
   "outputs": [],
   "source": [
    "# My own column name that i want to use\n",
    "new_cols_dict ={\n",
    "    'timestamp':'time',\n",
    "    'cnt':'count', \n",
    "    't1':'temp_real_C',\n",
    "    't2':'temp_feels_like_C',\n",
    "    'hum':'humidity_percent',\n",
    "    'wind_speed':'wind_speed_kph',\n",
    "    'weather_code':'weather',\n",
    "    'is_holiday':'is_holiday',\n",
    "    'is_weekend':'is_weekend',\n",
    "    'season':'season'\n",
    "}\n",
    "\n",
    "# Renaming the columns to the specified column names\n",
    "bikes_df.rename(new_cols_dict, axis=1, inplace=True)"
   ],
   "metadata": {
    "collapsed": false
   },
   "id": "b1b28206eac81bbb",
   "execution_count": null
  },
  {
   "cell_type": "code",
   "outputs": [],
   "source": [
    "# changing the humidity values to percentage (i.e. a value between 0 and 1)\n",
    "bikes_df.humidity_percent = bikes_df.humidity_percent / 100"
   ],
   "metadata": {
    "collapsed": false
   },
   "id": "bf8549ddc95d1dd6",
   "execution_count": null
  },
  {
   "cell_type": "code",
   "outputs": [],
   "source": [
    "# creating a season dictionary so that we can map the integers 0-3 to the actual written values\n",
    "season_dict = {\n",
    "    '0.0':'spring',\n",
    "    '1.0':'summer',\n",
    "    '2.0':'autumn',\n",
    "    '3.0':'winter'\n",
    "}\n",
    "\n",
    "# creating a weather dictionary so that we can map the integers to the actual written values\n",
    "weather_dict = {\n",
    "    '1.0':'Clear',\n",
    "    '2.0':'Scattered clouds',\n",
    "    '3.0':'Broken clouds',\n",
    "    '4.0':'Cloudy',\n",
    "    '7.0':'Rain',\n",
    "    '10.0':'Rain with thunderstorm',\n",
    "    '26.0':'Snowfall'\n",
    "}\n",
    "\n",
    "# changing the seasons column data type to string\n",
    "bikes_df.season = bikes_df.season.astype('str')\n",
    "# mapping the values 0-3 to the actual written seasons\n",
    "bikes_df.season = bikes_df.season.map(season_dict)\n",
    "\n",
    "# Same to weather\n",
    "bikes_df.weather = bikes_df.weather.astype('str')\n",
    "\n",
    "bikes_df.weather = bikes_df.weather.map(weather_dict)"
   ],
   "metadata": {
    "collapsed": false
   },
   "id": "b36a6fa86b0c3944",
   "execution_count": null
  },
  {
   "cell_type": "code",
   "outputs": [],
   "source": [
    "# Check if everything has gone well\n",
    "bikes_df.head()"
   ],
   "metadata": {
    "collapsed": false
   },
   "id": "d9cf980ab28935f7",
   "execution_count": null
  },
  {
   "cell_type": "code",
   "outputs": [],
   "source": [
    "!pip install openpyxl"
   ],
   "metadata": {
    "collapsed": false
   },
   "id": "aa97663e125af84e",
   "execution_count": null
  },
  {
   "cell_type": "code",
   "outputs": [],
   "source": [
    "# writing the final dataframe to an excel file that we will use in our Tableau visualisations. The file will be the 'london_bikes_final.xlsx' file and the sheet name is 'Data'\n",
    "bikes_df.to_excel('london_bikes_final.xlsx', sheet_name='Data')"
   ],
   "metadata": {
    "collapsed": false
   },
   "id": "f517510aef906a11",
   "execution_count": null
  }
 ],
 "metadata": {
  "kernelspec": {
   "display_name": "Python 3",
   "language": "python",
   "name": "python3"
  },
  "language_info": {
   "codemirror_mode": {
    "name": "ipython",
    "version": 2
   },
   "file_extension": ".py",
   "mimetype": "text/x-python",
   "name": "python",
   "nbconvert_exporter": "python",
   "pygments_lexer": "ipython2",
   "version": "2.7.6"
  }
 },
 "nbformat": 4,
 "nbformat_minor": 5
}
