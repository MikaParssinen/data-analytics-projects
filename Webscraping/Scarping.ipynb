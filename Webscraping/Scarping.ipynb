{
 "cells": [
  {
   "cell_type": "code",
   "execution_count": 28,
   "id": "initial_id",
   "metadata": {
    "collapsed": true,
    "ExecuteTime": {
     "end_time": "2024-03-10T21:34:32.581619Z",
     "start_time": "2024-03-10T21:34:32.574020Z"
    }
   },
   "outputs": [],
   "source": [
    "import pandas as pd"
   ]
  },
  {
   "cell_type": "code",
   "outputs": [],
   "source": [
    "from bs4 import BeautifulSoup\n",
    "import requests"
   ],
   "metadata": {
    "collapsed": false,
    "ExecuteTime": {
     "end_time": "2024-03-10T21:34:32.587402Z",
     "start_time": "2024-03-10T21:34:32.584392Z"
    }
   },
   "id": "a8486a14b40e0e19",
   "execution_count": 29
  },
  {
   "cell_type": "code",
   "outputs": [],
   "source": [
    "url = 'https://en.wikipedia.org/wiki/List_of_largest_companies_in_the_United_States_by_revenue'\n",
    "response = requests.get(url)\n",
    "soup = BeautifulSoup(response.text, 'html') #Scrape the Wikipedia"
   ],
   "metadata": {
    "collapsed": false,
    "ExecuteTime": {
     "end_time": "2024-03-10T21:34:32.818630Z",
     "start_time": "2024-03-10T21:34:32.592009Z"
    }
   },
   "id": "d1ffdc83f085dc45",
   "execution_count": 30
  },
  {
   "cell_type": "code",
   "outputs": [],
   "source": [
    "table = soup.find_all('table')[1] #Find table 1"
   ],
   "metadata": {
    "collapsed": false,
    "ExecuteTime": {
     "end_time": "2024-03-10T21:34:32.823227Z",
     "start_time": "2024-03-10T21:34:32.819844Z"
    }
   },
   "id": "e8e03017bf047ce7",
   "execution_count": 31
  },
  {
   "cell_type": "code",
   "outputs": [],
   "source": [
    "world_titles = table.find_all('th')"
   ],
   "metadata": {
    "collapsed": false,
    "ExecuteTime": {
     "end_time": "2024-03-10T21:34:32.827163Z",
     "start_time": "2024-03-10T21:34:32.823902Z"
    }
   },
   "id": "8f952d40e53ad974",
   "execution_count": 32
  },
  {
   "cell_type": "code",
   "outputs": [],
   "source": [
    "world_table_titles = [title.text.strip() for title in world_titles]"
   ],
   "metadata": {
    "collapsed": false,
    "ExecuteTime": {
     "end_time": "2024-03-10T21:34:32.831464Z",
     "start_time": "2024-03-10T21:34:32.829069Z"
    }
   },
   "id": "b6f5d98a63783895",
   "execution_count": 33
  },
  {
   "cell_type": "code",
   "outputs": [
    {
     "name": "stdout",
     "output_type": "stream",
     "text": [
      "['Rank', 'Name', 'Industry', 'Revenue (USD millions)', 'Revenue growth', 'Employees', 'Headquarters']\n"
     ]
    }
   ],
   "source": [
    "print(world_table_titles) #Titles found"
   ],
   "metadata": {
    "collapsed": false,
    "ExecuteTime": {
     "end_time": "2024-03-10T21:34:32.834865Z",
     "start_time": "2024-03-10T21:34:32.832250Z"
    }
   },
   "id": "3a86b816dc913987",
   "execution_count": 34
  },
  {
   "cell_type": "code",
   "outputs": [],
   "source": [
    "df = pd.DataFrame(columns = world_table_titles)"
   ],
   "metadata": {
    "collapsed": false,
    "ExecuteTime": {
     "end_time": "2024-03-10T21:34:32.861068Z",
     "start_time": "2024-03-10T21:34:32.835737Z"
    }
   },
   "id": "18c0d1b64a400101",
   "execution_count": 35
  },
  {
   "cell_type": "code",
   "outputs": [],
   "source": [
    "column_data = table.find_all('tr')"
   ],
   "metadata": {
    "collapsed": false,
    "ExecuteTime": {
     "end_time": "2024-03-10T21:34:32.867332Z",
     "start_time": "2024-03-10T21:34:32.863808Z"
    }
   },
   "id": "f41bc0da3900829",
   "execution_count": 36
  },
  {
   "cell_type": "code",
   "outputs": [],
   "source": [
    "for row in column_data[1:]:\n",
    "    row_data = row.find_all('td')\n",
    "    individual_row_data = [data.text.strip() for data in row_data]\n",
    "    length = len(df)\n",
    "    df.loc[length] = individual_row_data\n"
   ],
   "metadata": {
    "collapsed": false,
    "ExecuteTime": {
     "end_time": "2024-03-10T21:34:32.913120Z",
     "start_time": "2024-03-10T21:34:32.869679Z"
    }
   },
   "id": "a3c796b0b5dd2779",
   "execution_count": 37
  },
  {
   "cell_type": "code",
   "outputs": [
    {
     "data": {
      "text/plain": "   Rank                      Name                    Industry  \\\n0     1                   Walmart                      Retail   \n1     2                    Amazon  Retail and cloud computing   \n2     3                ExxonMobil          Petroleum industry   \n3     4                     Apple        Electronics industry   \n4     5        UnitedHealth Group                  Healthcare   \n..  ...                       ...                         ...   \n95   96                  Best Buy                      Retail   \n96   97      Bristol-Myers Squibb     Pharmaceutical industry   \n97   98           United Airlines                     Airline   \n98   99  Thermo Fisher Scientific      Laboratory instruments   \n99  100                  Qualcomm                  Technology   \n\n   Revenue (USD millions) Revenue growth  Employees             Headquarters  \n0                 611,289           6.7%  2,100,000    Bentonville, Arkansas  \n1                 513,983           9.4%  1,540,000      Seattle, Washington  \n2                 413,680          44.8%     62,000            Spring, Texas  \n3                 394,328           7.8%    164,000    Cupertino, California  \n4                 324,162          12.7%    400,000    Minnetonka, Minnesota  \n..                    ...            ...        ...                      ...  \n95                 46,298          10.6%     71,100     Richfield, Minnesota  \n96                 46,159           0.5%     34,300  New York City, New York  \n97                 44,955          82.5%     92,795        Chicago, Illinois  \n98                 44,915          14.5%    130,000   Waltham, Massachusetts  \n99                 44,200          31.7%     51,000    San Diego, California  \n\n[100 rows x 7 columns]",
      "text/html": "<div>\n<style scoped>\n    .dataframe tbody tr th:only-of-type {\n        vertical-align: middle;\n    }\n\n    .dataframe tbody tr th {\n        vertical-align: top;\n    }\n\n    .dataframe thead th {\n        text-align: right;\n    }\n</style>\n<table border=\"1\" class=\"dataframe\">\n  <thead>\n    <tr style=\"text-align: right;\">\n      <th></th>\n      <th>Rank</th>\n      <th>Name</th>\n      <th>Industry</th>\n      <th>Revenue (USD millions)</th>\n      <th>Revenue growth</th>\n      <th>Employees</th>\n      <th>Headquarters</th>\n    </tr>\n  </thead>\n  <tbody>\n    <tr>\n      <th>0</th>\n      <td>1</td>\n      <td>Walmart</td>\n      <td>Retail</td>\n      <td>611,289</td>\n      <td>6.7%</td>\n      <td>2,100,000</td>\n      <td>Bentonville, Arkansas</td>\n    </tr>\n    <tr>\n      <th>1</th>\n      <td>2</td>\n      <td>Amazon</td>\n      <td>Retail and cloud computing</td>\n      <td>513,983</td>\n      <td>9.4%</td>\n      <td>1,540,000</td>\n      <td>Seattle, Washington</td>\n    </tr>\n    <tr>\n      <th>2</th>\n      <td>3</td>\n      <td>ExxonMobil</td>\n      <td>Petroleum industry</td>\n      <td>413,680</td>\n      <td>44.8%</td>\n      <td>62,000</td>\n      <td>Spring, Texas</td>\n    </tr>\n    <tr>\n      <th>3</th>\n      <td>4</td>\n      <td>Apple</td>\n      <td>Electronics industry</td>\n      <td>394,328</td>\n      <td>7.8%</td>\n      <td>164,000</td>\n      <td>Cupertino, California</td>\n    </tr>\n    <tr>\n      <th>4</th>\n      <td>5</td>\n      <td>UnitedHealth Group</td>\n      <td>Healthcare</td>\n      <td>324,162</td>\n      <td>12.7%</td>\n      <td>400,000</td>\n      <td>Minnetonka, Minnesota</td>\n    </tr>\n    <tr>\n      <th>...</th>\n      <td>...</td>\n      <td>...</td>\n      <td>...</td>\n      <td>...</td>\n      <td>...</td>\n      <td>...</td>\n      <td>...</td>\n    </tr>\n    <tr>\n      <th>95</th>\n      <td>96</td>\n      <td>Best Buy</td>\n      <td>Retail</td>\n      <td>46,298</td>\n      <td>10.6%</td>\n      <td>71,100</td>\n      <td>Richfield, Minnesota</td>\n    </tr>\n    <tr>\n      <th>96</th>\n      <td>97</td>\n      <td>Bristol-Myers Squibb</td>\n      <td>Pharmaceutical industry</td>\n      <td>46,159</td>\n      <td>0.5%</td>\n      <td>34,300</td>\n      <td>New York City, New York</td>\n    </tr>\n    <tr>\n      <th>97</th>\n      <td>98</td>\n      <td>United Airlines</td>\n      <td>Airline</td>\n      <td>44,955</td>\n      <td>82.5%</td>\n      <td>92,795</td>\n      <td>Chicago, Illinois</td>\n    </tr>\n    <tr>\n      <th>98</th>\n      <td>99</td>\n      <td>Thermo Fisher Scientific</td>\n      <td>Laboratory instruments</td>\n      <td>44,915</td>\n      <td>14.5%</td>\n      <td>130,000</td>\n      <td>Waltham, Massachusetts</td>\n    </tr>\n    <tr>\n      <th>99</th>\n      <td>100</td>\n      <td>Qualcomm</td>\n      <td>Technology</td>\n      <td>44,200</td>\n      <td>31.7%</td>\n      <td>51,000</td>\n      <td>San Diego, California</td>\n    </tr>\n  </tbody>\n</table>\n<p>100 rows × 7 columns</p>\n</div>"
     },
     "execution_count": 38,
     "metadata": {},
     "output_type": "execute_result"
    }
   ],
   "source": [
    "df "
   ],
   "metadata": {
    "collapsed": false,
    "ExecuteTime": {
     "end_time": "2024-03-10T21:34:32.929546Z",
     "start_time": "2024-03-10T21:34:32.914565Z"
    }
   },
   "id": "c6be13ad6bbc960e",
   "execution_count": 38
  },
  {
   "cell_type": "code",
   "outputs": [],
   "source": [
    "df.to_csv(r'< LOCAL PATH WAY HERE > companies.csv',index= False) #Export dataframe to the local machine as an CSV."
   ],
   "metadata": {
    "collapsed": false,
    "ExecuteTime": {
     "end_time": "2024-03-10T21:34:32.940606Z",
     "start_time": "2024-03-10T21:34:32.935354Z"
    }
   },
   "id": "1dd98c08305c5e4c",
   "execution_count": 39
  }
 ],
 "metadata": {
  "kernelspec": {
   "display_name": "Python 3",
   "language": "python",
   "name": "python3"
  },
  "language_info": {
   "codemirror_mode": {
    "name": "ipython",
    "version": 2
   },
   "file_extension": ".py",
   "mimetype": "text/x-python",
   "name": "python",
   "nbconvert_exporter": "python",
   "pygments_lexer": "ipython2",
   "version": "2.7.6"
  }
 },
 "nbformat": 4,
 "nbformat_minor": 5
}
